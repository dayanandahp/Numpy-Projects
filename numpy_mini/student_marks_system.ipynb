{
 "cells": [
  {
   "cell_type": "code",
   "execution_count": 3,
   "id": "6391c3d5",
   "metadata": {},
   "outputs": [
    {
     "name": "stdout",
     "output_type": "stream",
     "text": [
      "Marks Array:\n",
      " [[85 90 88]\n",
      " [78 82 80]\n",
      " [92 88 95]\n",
      " [70 75 72]]\n"
     ]
    }
   ],
   "source": [
    "import numpy as np\n",
    "\n",
    "students = np.array([\"Alice\", \"Bob\", \"Charlie\", \"David\"])\n",
    "subjects = np.array([\"Math\", \"Science\", \"English\"])\n",
    "\n",
    "marks = np.array([\n",
    "    [85, 90, 88],\n",
    "    [78, 82, 80],\n",
    "    [92, 88, 95],\n",
    "    [70, 75, 72]\n",
    "])\n",
    "\n",
    "print(\"Marks Array:\\n\", marks)\n"
   ]
  },
  {
   "cell_type": "code",
   "execution_count": 4,
   "id": "1cae7273",
   "metadata": {},
   "outputs": [
    {
     "name": "stdout",
     "output_type": "stream",
     "text": [
      "Shape: (4, 3)\n",
      "Dimensions: 2\n",
      "Size: 12\n",
      "Data Type: int64\n"
     ]
    }
   ],
   "source": [
    "print(\"Shape:\", marks.shape)\n",
    "print(\"Dimensions:\", marks.ndim)\n",
    "print(\"Size:\", marks.size)\n",
    "print(\"Data Type:\", marks.dtype)\n"
   ]
  },
  {
   "cell_type": "code",
   "execution_count": 5,
   "id": "f109f34b",
   "metadata": {},
   "outputs": [
    {
     "name": "stdout",
     "output_type": "stream",
     "text": [
      "Reshaped Marks:\n",
      " [[85 90 88 78]\n",
      " [82 80 92 88]\n",
      " [95 70 75 72]]\n"
     ]
    }
   ],
   "source": [
    "reshaped_marks = marks.reshape(3, 4)  # reshape (4x3) → (3x4)\n",
    "print(\"Reshaped Marks:\\n\", reshaped_marks)\n"
   ]
  },
  {
   "cell_type": "code",
   "execution_count": 6,
   "id": "2859a94a",
   "metadata": {},
   "outputs": [
    {
     "name": "stdout",
     "output_type": "stream",
     "text": [
      "After Adding New Student:\n",
      " [[85 90 88]\n",
      " [78 82 80]\n",
      " [92 88 95]\n",
      " [70 75 72]\n",
      " [88 91 85]]\n",
      "After Adding New Subject:\n",
      " [[85 90 88 80]\n",
      " [78 82 80 85]\n",
      " [92 88 95 90]\n",
      " [70 75 72 75]\n",
      " [88 91 85 88]]\n"
     ]
    }
   ],
   "source": [
    "# Adding a new student\n",
    "new_student = np.array([[88, 91, 85]])\n",
    "updated_marks = np.vstack((marks, new_student))\n",
    "print(\"After Adding New Student:\\n\", updated_marks)\n",
    "\n",
    "# Adding a new subject\n",
    "new_subject = np.array([[80], [85], [90], [75], [88]])\n",
    "updated_marks_with_subject = np.hstack((updated_marks, new_subject))\n",
    "print(\"After Adding New Subject:\\n\", updated_marks_with_subject)\n"
   ]
  },
  {
   "cell_type": "code",
   "execution_count": 7,
   "id": "42ac1c0c",
   "metadata": {},
   "outputs": [
    {
     "name": "stdout",
     "output_type": "stream",
     "text": [
      "Updated Marks:\n",
      " [[85 90 88]\n",
      " [78 82 85]\n",
      " [92 88 95]\n",
      " [70 75 72]]\n",
      "Unique Marks: [70 72 75 78 82 85 88 90 92 95]\n"
     ]
    }
   ],
   "source": [
    "# Update marks\n",
    "marks[1, 2] = 85  # Update Bob's English mark\n",
    "print(\"Updated Marks:\\n\", marks)\n",
    "\n",
    "# Identify unique marks\n",
    "unique_marks = np.unique(marks)\n",
    "print(\"Unique Marks:\", unique_marks)\n"
   ]
  },
  {
   "cell_type": "code",
   "execution_count": 8,
   "id": "4ee2be31",
   "metadata": {},
   "outputs": [
    {
     "name": "stdout",
     "output_type": "stream",
     "text": [
      "Marks as Float Type:\n",
      " [[85. 90. 88.]\n",
      " [78. 82. 85.]\n",
      " [92. 88. 95.]\n",
      " [70. 75. 72.]]\n"
     ]
    }
   ],
   "source": [
    "marks_float = marks.astype(float)\n",
    "print(\"Marks as Float Type:\\n\", marks_float)\n"
   ]
  },
  {
   "cell_type": "code",
   "execution_count": 9,
   "id": "7747713b",
   "metadata": {},
   "outputs": [
    {
     "name": "stdout",
     "output_type": "stream",
     "text": [
      "Original Marks:\n",
      " [[85 90 88]\n",
      " [78 82 85]\n",
      " [92 88 95]\n",
      " [70 75 72]]\n",
      "Copied Marks:\n",
      " [[100  90  88]\n",
      " [ 78  82  85]\n",
      " [ 92  88  95]\n",
      " [ 70  75  72]]\n",
      "After Modifying View:\n",
      " [[85 99 88]\n",
      " [78 82 85]\n",
      " [92 88 95]\n",
      " [70 75 72]]\n"
     ]
    }
   ],
   "source": [
    "# Create a copy\n",
    "marks_copy = marks.copy()\n",
    "marks_copy[0, 0] = 100\n",
    "print(\"Original Marks:\\n\", marks)\n",
    "print(\"Copied Marks:\\n\", marks_copy)\n",
    "\n",
    "# Create a view\n",
    "marks_view = marks.view()\n",
    "marks_view[0, 1] = 99\n",
    "print(\"After Modifying View:\\n\", marks)\n"
   ]
  }
 ],
 "metadata": {
  "kernelspec": {
   "display_name": "Python 3",
   "language": "python",
   "name": "python3"
  },
  "language_info": {
   "codemirror_mode": {
    "name": "ipython",
    "version": 3
   },
   "file_extension": ".py",
   "mimetype": "text/x-python",
   "name": "python",
   "nbconvert_exporter": "python",
   "pygments_lexer": "ipython3",
   "version": "3.13.5"
  }
 },
 "nbformat": 4,
 "nbformat_minor": 5
}
